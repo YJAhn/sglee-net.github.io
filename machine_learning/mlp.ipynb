
Multilayer Perceptron

$ \frac{\partial E}{\partial \mathbf{w}_i, _k} $

