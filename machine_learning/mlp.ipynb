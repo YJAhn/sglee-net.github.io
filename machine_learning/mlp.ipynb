
{
 "cells": [
  {
   "cell_type": "markdown",
   "metadata": {},
   "source": [
    "###### Content provided under a Creative Commons Attribution license, CC-BY 4.0; code under MIT License. (c)2014 Lorena A. Barba, Olivier Mesnard. Thanks: NSF for support via CAREER award #1149784.",
    " $$ \frac{\partial E}{\partial \mathbf{w}_i, _k} $$ "
   ]
  }
}


