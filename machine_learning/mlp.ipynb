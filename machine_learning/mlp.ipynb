{
 "cells": [
  {
   "attachments": {},
   "cell_type": "markdown",
   "metadata": {},
   "source": [
    "## MLP (Multilayer Perceptron)\n",
    "![image](https://user-images.githubusercontent.com/33934527/41198610-dc228036-6cbc-11e8-8dd9-8a35e573a534.png)\n"
   ]
  },
  {
   "cell_type": "markdown",
   "metadata": {},
   "source": [
    "according to gradient descent, \n",
    "$$ \\mathbf{w}_{kj} = - \\mathbf{\\eta}\\frac{\\partial\\mathbf{E}}{\\partial \\mathbf{w}_{kj}}  $$"
   ]
  },
  {
   "cell_type": "markdown",
   "metadata": {},
   "source": [
    "$$ \\mathbf{E}_{k} = \\frac{1}{2} \\left( \\mathbf{d}_k - \\mathbf{o}_k \\right) ^2 $$"
   ]
  },
  {
   "cell_type": "markdown",
   "metadata": {},
   "source": [
    "$$ \\frac{\\partial \\mathbf E}{\\partial \\mathbf{w}_{kj}} = \\frac{\\partial {\\mathbf E}}{\\partial \\mathbf{o}_k} \\frac{\\partial \\mathbf{o}_k}{\\partial {net}_k} \\frac{\\partial {net}_k}{\\partial \\mathbf{w}_{kj}} $$"
   ]
  },
  {
   "cell_type": "markdown",
   "metadata": {},
   "source": [
    "$$ \\frac{\\partial \\mathbf{E}}{\\partial{\\mathbf{o}}_k} = - \\left( \\mathbf{d}_k - \\mathbf{o}_k \\right) $$ "
   ]
  },
  {
   "attachments": {},
   "cell_type": "markdown",
   "metadata": {},
   "source": [
    "$$ \\frac{\\partial \\mathbf{o}_k}{\\partial {net}_k} = \\mathbf{o}_k \\left( 1 - \\mathbf{o}_k \\right) $$"
   ]
  },
  {
   "cell_type": "markdown",
   "metadata": {},
   "source": [
    "$$ \\frac{\\partial {net}_k}{\\partial \\mathbf{w}_{kj}} = \\mathbf{y}_j $$"
   ]
  },
  {
   "cell_type": "markdown",
   "metadata": {},
   "source": [
    "$$ \\frac{\\partial \\mathbf E}{\\partial \\mathbf{w}_{kj}} =  - \\left( \\mathbf{d}_k - \\mathbf{o}_k \\right) \\mathbf{o}_k \\left( 1 - \\mathbf{o}_k \\right) \\mathbf{y}_i $$"
   ]
  },
  {
   "cell_type": "markdown",
   "metadata": {},
   "source": [
    "$$ \\mathbf{w}_{kj} \\left( t+1 \\right) = \\mathbf{w}_{kj} \\left( t \\right) + {\\eta} \\left( \\mathbf{d}_k - \\mathbf{o}_k \\right) \\mathbf{o}_k \\mathbf{y}_j $$"
   ]
  },
  {
   "cell_type": "markdown",
   "metadata": {},
   "source": [
    "$$ \\delta{o}_{k} = - \\frac{\\partial \\mathbf{E}}{\\partial \\mathbf{o}_k} \\frac{\\partial \\mathbf{o}_k}{\\partial {net}_k} = \\left( \\mathbf{d}_k - \\mathbf{o}_k \\right) f'\\left({net}_k\\right) $$"
   ]
  },
  {
   "cell_type": "markdown",
   "metadata": {},
   "source": [
    "$$ f' \\left( net \\right) =  \\begin{cases} o \\left(1-o \\right) : unipoloar \\\\ \\frac{1}{2} \\left(1-{o}^2 \\right) : bipolar \\end{cases} $$"
   ]
  },
  {
   "cell_type": "markdown",
   "metadata": {},
   "source": [
    "$$ \\frac{\\partial \\mathbf{E}}{\\partial \\mathbf{v}_{ji}} = \\frac{\\partial \\mathbf{E}}{\\partial \\mathbf{y}_i} \\frac{\\partial \\mathbf{y}_i}{\\partial {net}_j} \\frac{\\partial {net}_j}{\\partial \\mathbf{v}_{ji}} $$"
   ]
  },
  {
   "cell_type": "markdown",
   "metadata": {},
   "source": [
    "$$ \\frac{\\partial \\mathbf{E}}{\\partial {y}_j} = \\frac{\\partial}{\\partial {y}_j} \\frac{1}{2} \\sum_{k=1}^{K} \\left( \\mathbf{d}_k - f \\left[ {net}_k \\left( y \\right) \\right] \\right) ^2 = -\\sum_{i=1}^{K} \\left( \\mathbf{d}_k - \\mathbf{o}_k \\right) f' \\left({net}_i \\right) \\frac{{net}_k}{\\partial\\mathbf{y}_j} $$"
   ]
  },
  {
   "cell_type": "markdown",
   "metadata": {},
   "source": [
    "$$ \\frac{\\partial{y}_j}{\\partial{net}_j} = {y}_{j} \\left( 1- {y}_j \\right) = f' \\left( {net}_j \\right) $$"
   ]
  },
  {
   "cell_type": "markdown",
   "metadata": {},
   "source": [
    "$$ \\frac{\\partial {net}_j}{\\partial\\mathbf{v}_{ji}} = \\mathbf{x}_i $$"
   ]
  },
  {
   "cell_type": "markdown",
   "metadata": {},
   "source": [
    "$$ \\mathbf{v}_{ji} \\left( t+1 \\right) = \\mathbf{v}_{ji} \\left( t \\right) + {\\eta} \\sum_{k=1}^{K} \\left( \\mathbf{d}_k - \\mathbf{o}_k \\right) f' \\left( {net}_k \\right) \\frac{\\partial{net}_k}{\\partial{y}_j} {y}_j \\left( 1-\\mathbf{y}_j\\right) \\mathbf{x}_i $$"
   ]
  },
  {
   "cell_type": "markdown",
   "metadata": {},
   "source": [
    "$$ \\mathbf{v}_{ji} \\left( t+1 \\right) = \\mathbf{v}_{ji} \\left( t \\right) + {\\eta} f'\\left( {net}_k \\right) \\mathbf{x}_i \\sum_{k=1}^{K} \\delta\\mathbf{o}_k \\mathbf{w}_{jk} $$"
   ]
  },
  {
   "cell_type": "markdown",
   "metadata": {},
   "source": [
    "$$ \\delta\\mathbf{y}_j = \\frac{\\partial\\mathbf{E}}{\\partial\\mathbf{y}_j} \\frac{\\partial\\mathbf{y}_j}{\\partial{net}_j} = f'\\left( {net}_j \\right) \\mathbf{x}_i \\sum_{k=1}^{K} \\delta\\mathbf{o}_k \\mathbf{w}_{jk}$$"
   ]
  }
 ],
 "metadata": {
  "kernelspec": {
   "display_name": "Python 3",
   "language": "python",
   "name": "python3"
  },
  "language_info": {
   "codemirror_mode": {
    "name": "ipython",
    "version": 3
   },
   "file_extension": ".py",
   "mimetype": "text/x-python",
   "name": "python",
   "nbconvert_exporter": "python",
   "pygments_lexer": "ipython3",
   "version": "3.6.5"
  }
 },
 "nbformat": 4,
 "nbformat_minor": 2
}
